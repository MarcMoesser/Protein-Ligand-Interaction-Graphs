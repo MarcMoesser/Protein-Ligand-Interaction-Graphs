{
 "cells": [
  {
   "cell_type": "code",
   "execution_count": 1,
   "id": "9e7746ff",
   "metadata": {},
   "outputs": [],
   "source": [
    "import pandas as pd\n",
    "import os\n",
    "from tqdm import tqdm\n",
    "from rdkit import Chem\n",
    "import pickle\n",
    "#import functions from PLIG utilities script\n",
    "from PLIG_utils import *"
   ]
  },
  {
   "cell_type": "code",
   "execution_count": 2,
   "id": "15336c26",
   "metadata": {},
   "outputs": [],
   "source": [
    "#load in raw data PDB files\n",
    "raw_data = \"example_PDBbind_data/\"\n",
    "list_of_pdbcodes = [i for i in os.listdir(raw_data)]\n",
    "\n",
    "#load in all atom types for the 20 proteinogenic amino acids\n",
    "Atom_Keys=pd.read_csv(\"PDB_Atom_Keys.csv\", sep=\",\")\n"
   ]
  },
  {
   "cell_type": "code",
   "execution_count": 3,
   "id": "8b7ceb63",
   "metadata": {},
   "outputs": [
    {
     "name": "stderr",
     "output_type": "stream",
     "text": [
      "100%|█████████████████████████████████████████████████████████████████| 7/7 [00:01<00:00,  6.87it/s]\n"
     ]
    }
   ],
   "source": [
    "#FOR PLIG\n",
    "mol_graphs_crystal_8A = {}\n",
    "mol_graphs_crystal_7A = {}\n",
    "mol_graphs_crystal_6A = {}\n",
    "mol_graphs_crystal_5A = {}\n",
    "mol_graphs_crystal_4A = {}\n",
    "\n",
    "#make the crystal PLIGs\n",
    "for pdb in tqdm(list_of_pdbcodes):\n",
    "    \n",
    "    \n",
    "    # load the ligand \n",
    "    c_file = os.path.join(raw_data, pdb, f'{pdb}_ligand.mol2')\n",
    "    c_mol = Chem.AddHs(Chem.MolFromMol2File(c_file), addCoords=True) \n",
    "    # load the protein file -> WE HAVE ISOLATED THE PROTEIN POLYMER FROM SOLVENT AND WATER BEFORE!\n",
    "    pdb_file_cleaned = os.path.join(raw_data, pdb, f'{pdb}_pol_protein.pdb')\n",
    "\n",
    "    #8 Angstrom\n",
    "    contacts_8A = GetAtomContacts(pdb_file_cleaned, c_mol, Atom_Keys, distance_cutoff=8.0)\n",
    "    graph_c_8 = mol_to_graph(c_mol, contacts_8A, Atom_Keys)\n",
    "    mol_graphs_crystal_8A[pdb] = graph_c_8\n",
    "\n",
    "    #7 Angstrom\n",
    "    contacts_7A = GetAtomContacts(pdb_file_cleaned, c_mol, Atom_Keys, distance_cutoff=7.0)\n",
    "    graph_c_7 = mol_to_graph(c_mol, contacts_7A, Atom_Keys)\n",
    "    mol_graphs_crystal_7A[pdb] = graph_c_7\n",
    "\n",
    "    #6 Angstrom\n",
    "    contacts_6A = GetAtomContacts(pdb_file_cleaned, c_mol, Atom_Keys, distance_cutoff=6.0)\n",
    "    graph_c_6 = mol_to_graph(c_mol, contacts_6A, Atom_Keys)\n",
    "    mol_graphs_crystal_6A[pdb] = graph_c_6\n",
    "\n",
    "    #5 Angstrom\n",
    "    contacts_5A = GetAtomContacts(pdb_file_cleaned, c_mol, Atom_Keys, distance_cutoff=5.0)\n",
    "    graph_c_5 = mol_to_graph(c_mol, contacts_5A, Atom_Keys)\n",
    "    mol_graphs_crystal_5A[pdb] = graph_c_5\n",
    "\n",
    "    #4 Angstrom\n",
    "    contacts_4A = GetAtomContacts(pdb_file_cleaned, c_mol, Atom_Keys, distance_cutoff=4.0)\n",
    "    graph_c_4 = mol_to_graph(c_mol, contacts_4A, Atom_Keys)\n",
    "    mol_graphs_crystal_4A[pdb] = graph_c_4\n",
    "\n",
    "    #---------------------------------------------------------------------------------------------"
   ]
  },
  {
   "cell_type": "code",
   "execution_count": 4,
   "id": "f7189898",
   "metadata": {},
   "outputs": [],
   "source": [
    "#save the graphs to use as input for the GNN models\n",
    "\n",
    "output_file_graphs = os.path.join(\"PLIG_output/\", \"PLIG_test_run_8A.pickle\")\n",
    "with open(output_file_graphs, 'wb') as handle:\n",
    "    pickle.dump(mol_graphs_crystal_8A, handle, protocol=pickle.HIGHEST_PROTOCOL)\n",
    "    \n",
    "output_file_graphs = os.path.join(\"PLIG_output/\", \"PLIG_test_run_7A_std.pickle\")\n",
    "with open(output_file_graphs, 'wb') as handle:\n",
    "    pickle.dump(mol_graphs_crystal_7A, handle, protocol=pickle.HIGHEST_PROTOCOL)\n",
    "    \n",
    "output_file_graphs = os.path.join(\"PLIG_output/\", \"PLIG_test_run_6A_std.pickle\")\n",
    "with open(output_file_graphs, 'wb') as handle:\n",
    "    pickle.dump(mol_graphs_crystal_6A, handle, protocol=pickle.HIGHEST_PROTOCOL)\n",
    "    \n",
    "output_file_graphs = os.path.join(\"PLIG_output/\", \"PLIG_test_run_5A_std.pickle\")\n",
    "with open(output_file_graphs, 'wb') as handle:\n",
    "    pickle.dump(mol_graphs_crystal_5A, handle, protocol=pickle.HIGHEST_PROTOCOL)\n",
    "    \n",
    "output_file_graphs = os.path.join(\"PLIG_output/\", \"PLIG_test_run_4A_std.pickle\")\n",
    "with open(output_file_graphs, 'wb') as handle:\n",
    "    pickle.dump(mol_graphs_crystal_4A, handle, protocol=pickle.HIGHEST_PROTOCOL)"
   ]
  }
 ],
 "metadata": {
  "kernelspec": {
   "display_name": "Python 3 (ipykernel)",
   "language": "python",
   "name": "python3"
  },
  "language_info": {
   "codemirror_mode": {
    "name": "ipython",
    "version": 3
   },
   "file_extension": ".py",
   "mimetype": "text/x-python",
   "name": "python",
   "nbconvert_exporter": "python",
   "pygments_lexer": "ipython3",
   "version": "3.9.7"
  }
 },
 "nbformat": 4,
 "nbformat_minor": 5
}
