{
 "cells": [
  {
   "cell_type": "code",
   "execution_count": 1,
   "id": "472a034f",
   "metadata": {},
   "outputs": [],
   "source": [
    "import pandas as pd\n",
    "import matplotlib.pyplot as plt\n",
    "import numpy as np\n",
    "import matplotlib.cm as cm\n",
    "import matplotlib.patches as mpatches\n",
    "import matplotlib.ticker as plticker\n",
    "import seaborn as sns\n",
    "import os\n",
    "from statistics import mean\n",
    "import ast\n",
    "import scipy.stats as sc_stats\n",
    "from math import isnan"
   ]
  },
  {
   "cell_type": "code",
   "execution_count": 2,
   "id": "0569ea2f",
   "metadata": {},
   "outputs": [],
   "source": [
    "def plot_PC_heatmap(df, title, name):\n",
    "    \n",
    "    fig, axs = plt.subplots(figsize=(14, 11), dpi=300)\n",
    "    sns.set(font_scale = 2)\n",
    "\n",
    "    a = sns.heatmap(df, annot=True, fmt=\".2f\", linewidths = 0.1, \n",
    "                cmap='viridis_r', vmin=0.7, vmax=0.84, \n",
    "                square=True,\n",
    "                cbar=True, \n",
    "                cbar_kws={'label': 'Pearson correlation coefficient',\n",
    "                \"ticks\":[0.7, 0.72, 0.74, 0.76, 0.78, 0.8, 0.82, 0.84]})\n",
    "\n",
    "    a.set_title(title, fontsize = 22, weight='bold', y = 1.02)\n",
    "    a.set_ylabel(\"\")\n",
    "    \n",
    "    #a.tick_params(axis='y', which='minor', rotation=90)\n",
    "    \n",
    "    a.set_xticklabels(a.get_xmajorticklabels(), fontsize = 20, rotation = 90, weight=\"bold\")\n",
    "    a.set_yticklabels(a.get_ymajorticklabels(), fontsize = 20, rotation = 0, weight=\"bold\")\n",
    "    \n",
    "    #plt.setp(a.get_yticklabels(), rotation=90)\n",
    "    \n",
    "    fig.tight_layout()\n",
    "    fig.savefig(name+\"_performance.png\", transparent=False, facecolor=\"w\", dpi=300)\n",
    "    plt.close()\n",
    "    \n",
    "def plot_RMSE_heatmap(df, title, name):\n",
    "    \n",
    "    fig, axs = plt.subplots(figsize=(14, 11), dpi=300)\n",
    "    sns.set(font_scale = 2)\n",
    "\n",
    "    a = sns.heatmap(df, annot=True, fmt=\".2f\", linewidths = 0.1, \n",
    "                cmap='viridis_r', vmin=1.2, vmax=1.5, \n",
    "                square=True,\n",
    "                cbar=True, \n",
    "                cbar_kws={'label': 'RMSE [pK]',\n",
    "                \"ticks\":[1.20, 1.25, 1.30, 1.35, 1.40, 1.45, 1.50]})\n",
    "\n",
    "    a.set_title(title, fontsize = 22, weight='bold', y = 1.02)\n",
    "    a.set_ylabel(\"\")\n",
    "    \n",
    "    #a.tick_params(axis='y', which='minor', rotation=90)\n",
    "    \n",
    "    a.set_xticklabels(a.get_xmajorticklabels(), fontsize = 20, rotation = 90, weight=\"bold\")\n",
    "    a.set_yticklabels(a.get_ymajorticklabels(), fontsize = 20, rotation = 0, weight=\"bold\")\n",
    "    \n",
    "    #plt.setp(a.get_yticklabels(), rotation=90)\n",
    "    \n",
    "    fig.tight_layout()\n",
    "    fig.savefig(name+\"_RMSE_performance.png\", transparent=False, facecolor=\"w\", dpi=300)\n",
    "    plt.close()"
   ]
  },
  {
   "cell_type": "code",
   "execution_count": 3,
   "id": "4de717c5",
   "metadata": {},
   "outputs": [],
   "source": [
    "#get data\n",
    "data_folder = \"data/\"\n",
    "\n",
    "df_crystal = pd.read_csv(data_folder+\"casf2016_ensembles_crystal.csv\", index_col=0)\n",
    "df_docked = pd.read_csv(data_folder+\"casf2016_ensembles_docked.csv\", index_col=0)\n",
    "df_lig = pd.read_csv(data_folder+\"casf2016_ensembles_ligand.csv\", index_col=0)\n",
    "df_ens = pd.read_csv(data_folder+\"casf2016_multi-model_ensembles.csv\", index_col=0)\n",
    "\n",
    "df_crystal_RMSE = pd.read_csv(data_folder+\"casf2016_ensembles_crystal_RMSE.csv\", index_col=0)\n",
    "df_docked_RMSE = pd.read_csv(data_folder+\"casf2016_ensembles_docked_RMSE.csv\", index_col=0)\n",
    "df_lig_RMSE = pd.read_csv(data_folder+\"casf2016_ensembles_ligand_RMSE.csv\", index_col=0)\n",
    "df_ens_RMSE = pd.read_csv(data_folder+\"casf2016_multi-model_ensembles_RMSE.csv\", index_col=0)"
   ]
  },
  {
   "cell_type": "code",
   "execution_count": 4,
   "id": "a4ef7ccb",
   "metadata": {},
   "outputs": [
    {
     "name": "stdout",
     "output_type": "stream",
     "text": [
      "done\n"
     ]
    }
   ],
   "source": [
    "#df_crystal_RMSE = df_crystal_RMSE.reindex(df_crystal.index)\n",
    "#df_docked_RMSE = df_docked_RMSE.reindex(df_docked.index)\n",
    "#df_lig_RMSE = df_lig_RMSE.reindex(df_lig.index)\n",
    "#df_ens_RMSE = df_ens_RMSE.reindex(df_ens.index)\n",
    "print(\"done\")"
   ]
  },
  {
   "cell_type": "code",
   "execution_count": 5,
   "id": "11f45a16",
   "metadata": {
    "scrolled": false
   },
   "outputs": [],
   "source": [
    "plot_PC_heatmap(df_docked[[\"Sequence\", \"No Sequence\"]], \"CASF-2016 Docked Poses\", \"docked\")\n",
    "plot_RMSE_heatmap(df_docked_RMSE[[\"Sequence\", \"No Sequence\"]], \"CASF-2016 Docked Poses\", \"docked\")"
   ]
  },
  {
   "cell_type": "code",
   "execution_count": 6,
   "id": "1ab5465c",
   "metadata": {},
   "outputs": [],
   "source": [
    "plot_PC_heatmap(df_crystal[[\"Sequence\", \"No Sequence\"]], \"CASF-2016 Crystal Poses\", \"crystal\")\n",
    "plot_RMSE_heatmap(df_crystal_RMSE[[\"Sequence\", \"No Sequence\"]], \"CASF-2016 Crystal Poses\", \"crystal\")"
   ]
  },
  {
   "cell_type": "code",
   "execution_count": 7,
   "id": "16e52b30",
   "metadata": {},
   "outputs": [],
   "source": [
    "plot_PC_heatmap(df_lig[[\"Sequence\", \"No Sequence\"]], \"CASF-2016 Ligand-based\", \"ligand_based\")\n",
    "plot_RMSE_heatmap(df_lig_RMSE[[\"Sequence\", \"No Sequence\"]], \"CASF-2016 Ligand-based\", \"ligand_based\")"
   ]
  },
  {
   "cell_type": "code",
   "execution_count": 8,
   "id": "6df11cee",
   "metadata": {},
   "outputs": [],
   "source": [
    "#rename to make shorter\n",
    "new_index = ['Crystal All PLIGs', 'Docked All PLIGs','Crystal GATNet(PLIG)+MLPNet(ECIF)',\n",
    "               'Docked GATNet(PLIG)+MLPNet(ECIF)',\n",
    "               'Crystal GATNet (PLIG)+MLPNet (ECFP512)',\n",
    "               'Docked GATNet (PLIG)+MLPNet (ECFP512)',\n",
    "               'Crystal MLPNet (ECIF)+MLPNet (ECFP512)',\n",
    "               'Docked MLPNet (ECIF)+MLPNet (ECFP512)']\n",
    "\n",
    "df_ens[\"New_name\"] = new_index\n",
    "df_ens_RMSE[\"New_name\"] = new_index\n",
    "\n",
    "df_ens.set_index(\"New_name\", inplace=True)\n",
    "df_ens_RMSE.set_index(\"New_name\", inplace=True)"
   ]
  },
  {
   "cell_type": "code",
   "execution_count": 9,
   "id": "dc5d3ac6",
   "metadata": {},
   "outputs": [],
   "source": [
    "#remove superfluous entries\n",
    "relevant_entries = [\"Crystal All PLIGs\", \"Docked All PLIGs\", \"Crystal GATNet(PLIG)+MLPNet(ECIF)\", \n",
    "                    \"Docked GATNet(PLIG)+MLPNet(ECIF)\", \"Crystal GATNet (PLIG)+MLPNet (ECFP512)\",\n",
    "                   \"Docked GATNet (PLIG)+MLPNet (ECFP512)\", \"Crystal MLPNet (ECIF)+MLPNet (ECFP512)\",\n",
    "                   \"Docked MLPNet (ECIF)+MLPNet (ECFP512)\"]\n",
    "df_ens_new = df_ens[df_ens.index.isin(relevant_entries)]\n",
    "\n",
    "\n",
    "df_ens_RMSE_new = df_ens_RMSE[df_ens_RMSE.index.isin(relevant_entries)]"
   ]
  },
  {
   "cell_type": "code",
   "execution_count": 10,
   "id": "a742936a",
   "metadata": {
    "scrolled": true
   },
   "outputs": [],
   "source": [
    "plot_PC_heatmap(df_ens_new[[\"PC\"]], \"CASF-2016 Multi-model ensembles\", \"multi-model_ensembles\")\n",
    "plot_RMSE_heatmap(df_ens_RMSE_new[[\"RMSE\"]], \"CASF-2016 Multi-model ensembles\", \"multi-model_ensembles\")"
   ]
  },
  {
   "cell_type": "code",
   "execution_count": null,
   "id": "cca89cc2",
   "metadata": {},
   "outputs": [],
   "source": []
  }
 ],
 "metadata": {
  "kernelspec": {
   "display_name": "Python 3 (ipykernel)",
   "language": "python",
   "name": "python3"
  },
  "language_info": {
   "codemirror_mode": {
    "name": "ipython",
    "version": 3
   },
   "file_extension": ".py",
   "mimetype": "text/x-python",
   "name": "python",
   "nbconvert_exporter": "python",
   "pygments_lexer": "ipython3",
   "version": "3.9.7"
  }
 },
 "nbformat": 4,
 "nbformat_minor": 5
}
